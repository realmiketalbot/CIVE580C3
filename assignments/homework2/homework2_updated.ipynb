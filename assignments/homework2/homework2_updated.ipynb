{
  "cells": [
    {
      "cell_type": "markdown",
      "metadata": {
        "colab_type": "text",
        "id": "view-in-github"
      },
      "source": [
        "<a href=\"https://colab.research.google.com/github/rg-smith/remote-sensing-hydro-2025/blob/main/assignments/homework2/homework2_updated.ipynb\" target=\"_parent\"><img src=\"https://colab.research.google.com/assets/colab-badge.svg\" alt=\"Open In Colab\"/></a>"
      ]
    },
    {
      "cell_type": "markdown",
      "metadata": {
        "id": "wEL4beddP9LP"
      },
      "source": [
        "# Homework 2\n",
        "\n",
        "In this lab, you will use python (and a module called Google Earth Engine) to view satellite imagery, and access and compare precipitation and ET datasets.\n",
        "\n",
        "Before starting the sections, we will import the modules we need, initialize Google Earth Engine, and define some functions."
      ]
    },
    {
      "cell_type": "markdown",
      "metadata": {
        "id": "PFTvpuKbQ1SY"
      },
      "source": [
        "The first block of code only needs to be run once, the first time you open your session (if you close out of the session and open again, you will need to run this again). Follow the prompts to initialize earth engine. You will be taken to a link where you need to give permission to link your google account with Google Earth Engine, then copy and paste some text below the code block."
      ]
    },
    {
      "cell_type": "code",
      "execution_count": null,
      "metadata": {
        "collapsed": true,
        "id": "bMC9C9SKMhgz"
      },
      "outputs": [],
      "source": [
        "import ee\n",
        "import folium\n",
        "import numpy as np\n",
        "import branca.colormap as cm\n",
        "import requests\n",
        "import zipfile\n",
        "import os\n",
        "from tqdm import tqdm"
      ]
    },
    {
      "cell_type": "markdown",
      "metadata": {
        "id": "7G0UCFPq18MM"
      },
      "source": [
        "If you have not registered for Google Earth Engine yet, do so at https://code.earthengine.google.com/. At the top-right corner, you will see a name next to your user icon. Copy that name and past where 'your project name' is located in the code block below. NOTE: if you see any warning symbols on the code.earthengine.google.com website next to your profile icon, click it and resolve it before proceeding."
      ]
    },
    {
      "cell_type": "code",
      "execution_count": 2,
      "metadata": {
        "id": "rjit_ptf1pI0"
      },
      "outputs": [],
      "source": [
        "#if not ee.data._credentials:\n",
        "ee.Authenticate()\n",
        "ee.Initialize(project='replace with project name')"
      ]
    },
    {
      "cell_type": "markdown",
      "metadata": {
        "id": "0hD7poLQReog"
      },
      "source": [
        "This block of code also only needs to be run once. It defines many useful functions, some of which you will use in this exercise. The most important thing for you to understand is what arguments are needed to run the functions, and what their outputs are. You will use some of them in this exercise, and some later on!"
      ]
    },
    {
      "cell_type": "code",
      "execution_count": 30,
      "metadata": {
        "id": "n-9383M2OZd1"
      },
      "outputs": [],
      "source": [
        "# functions needed for this lab (and some other useful ones that you can use if you're interested)\n",
        "\n",
        "# this function is used to add a google earth engine layer to an existing folium map,\n",
        "# for visualization purposes. Folium is a python package that can put rasters/shapefiles on a basemap\n",
        "# the function below is run using an existing folium map. If the folium map defines is my_map, then\n",
        "# my_map.add_ee_layer(ee_object,name)\n",
        "# where ee_object is the object defined in google earth engine, and name is the label in folium\n",
        "def add_ee_layer(self, ee_object, name):\n",
        "    try:\n",
        "        # display ee.Image()\n",
        "        if isinstance(ee_object, ee.image.Image):\n",
        "            range = ee.Image(ee_object).reduceRegion(ee.Reducer.percentile([1, 99]),scale=10000)\n",
        "            vals = range.getInfo()\n",
        "            min=list(vals.items())[0][1]\n",
        "            max=list(vals.items())[1][1]\n",
        "            vis = {'min': min, 'max': max, 'palette': ['0000FF', 'FFFFFF','FF0000']}\n",
        "\n",
        "            map_id_dict = ee.Image(ee_object).getMapId(vis)\n",
        "            folium.raster_layers.TileLayer(\n",
        "            tiles = map_id_dict['tile_fetcher'].url_format,\n",
        "            attr = 'Google Earth Engine',\n",
        "            name = name,\n",
        "            overlay = True,\n",
        "            control = True\n",
        "            ).add_to(self)\n",
        "            colormap = cm.LinearColormap(vmin=min,vmax=max,colors=['blue', 'white','red']).to_step(n=10)\n",
        "            colormap.caption=name\n",
        "            self.add_child(colormap)\n",
        "        # display ee.ImageCollection()\n",
        "        elif isinstance(ee_object, ee.imagecollection.ImageCollection):\n",
        "            ee_object_new = ee_object.mosaic()\n",
        "            map_id_dict = ee.Image(ee_object_new).getMapId(vis_params)\n",
        "            folium.raster_layers.TileLayer(\n",
        "            tiles = map_id_dict['tile_fetcher'].url_format,\n",
        "            attr = 'Google Earth Engine',\n",
        "            name = name,\n",
        "            overlay = True,\n",
        "            control = True\n",
        "            ).add_to(self)\n",
        "        # display ee.Geometry()\n",
        "        elif isinstance(ee_object, ee.geometry.Geometry):\n",
        "            folium.GeoJson(\n",
        "            data = ee_object.getInfo(),\n",
        "            name = name,\n",
        "            overlay = True,\n",
        "            control = True\n",
        "        ).add_to(self)\n",
        "        # display ee.FeatureCollection()\n",
        "        elif isinstance(ee_object, ee.featurecollection.FeatureCollection):\n",
        "            ee_object_new = ee.Image().paint(ee_object, 0, 2)\n",
        "            map_id_dict = ee.Image(ee_object_new).getMapId(vis_params)\n",
        "            folium.raster_layers.TileLayer(\n",
        "            tiles = map_id_dict['tile_fetcher'].url_format,\n",
        "            attr = 'Google Earth Engine',\n",
        "            name = name,\n",
        "            overlay = True,\n",
        "            control = True\n",
        "        ).add_to(self)\n",
        "\n",
        "    except Exception as e:\n",
        "        print(\"Could not display {}\".format(name))\n",
        "        print(e)\n",
        "\n",
        "# to convert a google earth engine image to a python array\n",
        "def to_array(img,aoi):\n",
        "  band_arrs = img.sampleRectangle(region=aoi,properties=['scale=1000'],defaultValue=-999)\n",
        "\n",
        "  band_names=img.bandNames().getInfo()\n",
        "\n",
        "  for kk in range(len(band_names)):\n",
        "    if kk==0:\n",
        "      dat1=np.array(band_arrs.get(band_names[kk]).getInfo())\n",
        "      dat_full=np.zeros((dat1.shape[0],dat1.shape[1],len(band_names)))\n",
        "      dat_full[:,:,kk]=dat1\n",
        "    else:\n",
        "      dat=np.array(band_arrs.get(band_names[kk]).getInfo())\n",
        "      dat_full[:,:,kk]=dat\n",
        "  return(dat_full)\n",
        "\n",
        "# to calculate an index\n",
        "def getIndex(image,b1,b2):\n",
        "  return image.normalizedDifference([b1, b2])\n",
        "\n",
        "# to calculate a ratio\n",
        "def getRatio(image1,image2):\n",
        "  ratio=image1.divide(image2)\n",
        "  return ratio\n",
        "\n",
        "# to create a color map from a specific image\n",
        "def getVisparams(image,aoi):\n",
        "  range = image.reduceRegion(ee.Reducer.percentile([1, 99]),aoi,300)\n",
        "  vals = range.getInfo()\n",
        "  min=list(vals.items())[0][1]\n",
        "  max=list(vals.items())[1][1]\n",
        "  visParams = {'min': min, 'max': max, 'palette': ['0000FF', 'FFFFFF','FF0000']}\n",
        "  return(visParams)\n",
        "\n",
        "# to get the link to download an earth engine image\n",
        "def getLink(image,aoi):\n",
        "  link = image.getDownloadURL({\n",
        "    'scale': 1000,\n",
        "    'crs': 'EPSG:4326',\n",
        "    'fileFormat': 'GeoTIFF',\n",
        "    'region': aoi})\n",
        "  print(link)\n",
        "\n",
        "# create an earth engine geometry polygon\n",
        "def addGeometry(min_lon,max_lon,min_lat,max_lat):\n",
        "\n",
        "  geom = ee.Geometry.Polygon(\n",
        "      [[[min_lon, max_lat],\n",
        "        [min_lon, min_lat],\n",
        "        [max_lon, min_lat],\n",
        "        [max_lon, max_lat]]])\n",
        "  return(geom)\n",
        "\n",
        "# load prism data\n",
        "def get_prism_image(date1,date2,geometry):\n",
        "\n",
        "  prism = ee.ImageCollection('OREGONSTATE/PRISM/AN81m')\n",
        "  prism_img = prism.filterDate(date1,date2).select('ppt').mean().clip(geometry)\n",
        "  return(prism_img) # returns prism average monthly precipitation, in mm\n",
        "\n",
        "# load landsat 8 data\n",
        "def get_l8_image(date1,date2,geometry):\n",
        "\n",
        "  l8 = ee.ImageCollection('LANDSAT/LC08/C01/T1_RT')\n",
        "  l8_img = l8.filterDate(date1,date2).mean().clip(geometry)\n",
        "  return(l8_img)\n",
        "\n",
        "# to export an image to google drive\n",
        "def export_to_drive(raster,filename,foldername,geometry):\n",
        "  # Export the image, specifying scale and region.\n",
        "  task = ee.batch.Export.image.toDrive(**{\n",
        "      'image': raster,\n",
        "      'description': filename,\n",
        "      'folder': foldername,\n",
        "      'fileNamePrefix': filename,\n",
        "      'scale': 1000,\n",
        "      'region': geometry,\n",
        "      'fileFormat': 'GeoTIFF',\n",
        "      'formatOptions': {\n",
        "        'cloudOptimized': 'true'\n",
        "      },\n",
        "  })\n",
        "  task.start()\n",
        "\n",
        "# to create an elevation raster from the USGS NED in google earth engine from a user-defined geometry\n",
        "def get_elev(geometry):\n",
        "\n",
        "  elev = ee.Image('USGS/NED').clip(geometry)\n",
        "  return(elev)\n",
        "\n",
        "# to create an elevation raster from the SRTM in google earth engine from a user-defined geometry\n",
        "def get_srtm(geometry):\n",
        "\n",
        "  elev = ee.Image('USGS/SRTMGL1_003').clip(geometry)\n",
        "  return(elev)\n",
        "\n",
        "# to create a temporally averaged precipitation raster from GPM from a user-defined geometry\n",
        "def get_gpm_image(date1,date2,geometry):\n",
        "\n",
        "  gpm = ee.ImageCollection('NASA/GPM_L3/IMERG_MONTHLY_V07')\n",
        "  gpm_img = gpm.filterDate(date1,date2).select('precipitation').mean().multiply(24*365/12).clip(geometry) # convert from mm/hour to mm/month\n",
        "  return(gpm_img) # returns gpm average monthly precipitation in mm\n",
        "\n",
        "# to create a temporally averaged actual ET raster from the openET ensemble from a user-defined geometry\n",
        "def get_openET_image(date1,date2,geometry):\n",
        "\n",
        "  openET = ee.ImageCollection('OpenET/ENSEMBLE/CONUS/GRIDMET/MONTHLY/v2_0')\n",
        "  openET_img = openET.filterDate(date1,date2).select('et_ensemble_mad').mean().clip(geometry)\n",
        "  return(openET_img)\n",
        "\n",
        "# to create a temporally averaged reference ET raster from the openET ensemble from a user-defined geometry\n",
        "def get_RET(date1,date2,geometry):\n",
        "\n",
        "  ETR = ee.ImageCollection('IDAHO_EPSCOR/GRIDMET')\n",
        "  ETR_image = ETR.filterDate(date1,date2).select('etr').mean().multiply(365/12).clip(geometry) # convert from mm/day to mm/month\n",
        "  return(ETR_image)\n",
        "\n",
        "# load sentinel 2 data\n",
        "def get_s2_image(date1,date2,geometry):\n",
        "\n",
        "    s2 = ee.ImageCollection('COPERNICUS/S2')\n",
        "    s2_img = s2.filterDate(date1,date2).filterBounds(geometry).first().clip(geometry)\n",
        "    return(s2_img)\n",
        "\n",
        "# to get the link to download an earth engine image\n",
        "def getLink(image,fname,aoi,scale=1000):\n",
        "  link = image.getDownloadURL({\n",
        "    'scale': scale,\n",
        "    'crs': 'EPSG:4326',\n",
        "    'fileFormat': 'GeoTIFF',\n",
        "    'region': aoi,\n",
        "    'name': fname})\n",
        "  # print(link)\n",
        "  return(link)\n",
        "\n",
        "def download_img(img,geom,fname,scale=1000):\n",
        "    linkname = getLink(img,fname,geom,scale=scale)\n",
        "    response = requests.get(linkname, stream=True)\n",
        "    zipped = fname+'.zip'\n",
        "    with open(zipped, \"wb\") as handle:\n",
        "        for data in tqdm(response.iter_content()):\n",
        "            handle.write(data)\n",
        "\n",
        "    with zipfile.ZipFile(zipped, 'r') as zip_ref:\n",
        "        zip_ref.extractall('')\n",
        "    os.remove(zipped)\n",
        "\n",
        "# Add EE drawing method to folium (not a function)\n",
        "folium.Map.add_ee_layer = add_ee_layer"
      ]
    },
    {
      "cell_type": "markdown",
      "metadata": {
        "id": "mPB43w6tRrSW"
      },
      "source": [
        "# Part 1: Viewing precipitation data for a given geometry and date\n",
        "\n"
      ]
    },
    {
      "cell_type": "markdown",
      "metadata": {
        "id": "rPP3FMD4SQKM"
      },
      "source": [
        "First, we will define the study area and time period and load some PRISM, GPM and elevation data."
      ]
    },
    {
      "cell_type": "code",
      "execution_count": 35,
      "metadata": {
        "id": "3ee4KySvtxDb"
      },
      "outputs": [],
      "source": [
        "# create a bounding box that defines the study area\n",
        "geom = addGeometry(-109, -102,37,41) # min long, max long, min lat, max lat\n",
        "\n",
        "# define dates of interest (inclusive).\n",
        "start = '2021-10-01'\n",
        "end = '2022-10-01' #can go up to april 2021\n",
        "\n",
        "# get elevation data\n",
        "elev = get_elev(geom)\n",
        "\n",
        "# now get gpm precipitation over the same region for a specified time period\n",
        "gpm_img = get_gpm_image(start,end,geom)\n",
        "\n",
        "# now get prism precipitation over the same time period/region\n",
        "prism_img = get_prism_image(start,end,geom)\n",
        "\n",
        "# now get actual ET from openET over the same time period/region\n",
        "openET_img = get_openET_image(start,end,geom)\n",
        "\n",
        "# now get reference ET\n",
        "RET = get_RET(start,end,geom)"
      ]
    },
    {
      "cell_type": "markdown",
      "metadata": {
        "id": "G6NTOA9oULq-"
      },
      "source": [
        "Now, we will create the map. We have not displayed it yet, so you will not see it after running this code block."
      ]
    },
    {
      "cell_type": "code",
      "execution_count": 38,
      "metadata": {
        "id": "LclSbsmkt4Zq"
      },
      "outputs": [],
      "source": [
        "my_map = folium.Map(location=[39, -104.5], zoom_start=7)\n",
        "\n",
        "# Add the land cover to the map object.\n",
        "#my_map.add_ee_layer(l8_img,'Landsat 8')\n",
        "my_map.add_ee_layer(geom,'bounding box')\n",
        "my_map.add_ee_layer(elev,'Elevation (m)')\n",
        "my_map.add_ee_layer(prism_img,'PRISM precip (mm/month)')\n",
        "my_map.add_ee_layer(gpm_img,'GPM precip (mm/month)')\n",
        "my_map.add_ee_layer(openET_img,'ET (openET, mm/month)')\n",
        "\n"
      ]
    },
    {
      "cell_type": "markdown",
      "metadata": {
        "id": "7exrLgnh_24e"
      },
      "source": [
        "Now we will compare monthly ET to monthly precipitation. Areas with much higher ET than precipitation could receive water from streams, groundwater, or irrigation. They could also represent regions with errors in the precipitation or ET estimates.\n",
        "\n",
        "We will also divide monthly actual ET by monthly reference ET.\n",
        "\n",
        "The last line displays the map. Scroll to the top so you can check/uncheck layers. Note that the bottom layer on the legend will show up on top. Take a screenshot for your lab report. Comment on the similarities and discrepancies you see between GPM and PRISM precipitation. Do you notice any trends in the discrepancies?\n",
        "\n",
        "Comment also on discrepancies between ET and precipitation. Group them into discrepancies that you think have a physical meaning, and discrepancies that you think may be related to noise in the data. Be thoughtful about this! 'It looks noisy' is not a sufficient response!\n",
        "\n",
        "Also comment on the ratio (actual ET/reference ET). What does that ratio physically represent?"
      ]
    },
    {
      "cell_type": "markdown",
      "metadata": {},
      "source": []
    },
    {
      "cell_type": "code",
      "execution_count": null,
      "metadata": {
        "id": "BxMWyH1tBxze"
      },
      "outputs": [],
      "source": [
        "ET_precip = openET_img.subtract(prism_img)\n",
        "my_map.add_ee_layer(ET_precip,'ET - precip (mm/month)')\n",
        "\n",
        "ET_ETR = openET_img.divide(RET)\n",
        "my_map.add_ee_layer(ET_ETR,'ET / ETR')\n",
        "\n",
        "# Add a layer control panel to the map.\n",
        "my_map.add_child(folium.LayerControl())\n",
        "\n",
        "# Display the map.\n",
        "display(my_map)"
      ]
    },
    {
      "cell_type": "markdown",
      "metadata": {
        "id": "VL6Sg2I2inyL"
      },
      "source": [
        "Now, we will export the tiffs to your notebook folder. We will then use some other python functions to do analysis. After you run the code below, it will take a few minutes to save the files to your Google Drive. Move on to the next step while you're waiting."
      ]
    },
    {
      "cell_type": "code",
      "execution_count": 40,
      "metadata": {
        "colab": {
          "base_uri": "https://localhost:8080/"
        },
        "id": "0mq0A4KdhU7s",
        "outputId": "2354deb1-8fef-4b99-8d75-776e3c95569f"
      },
      "outputs": [
        {
          "name": "stderr",
          "output_type": "stream",
          "text": [
            "20473it [00:00, 89005.10it/s]\n",
            "77024it [00:00, 156356.95it/s]\n",
            "1207389it [00:07, 158022.47it/s]\n"
          ]
        }
      ],
      "source": [
        "download_img(gpm_img,geom,'lab2_gpm_precip_CO')\n",
        "download_img(prism_img,geom,'lab2_prism_precip_CO')\n",
        "download_img(elev,geom,'lab2_elev_CO')"
      ]
    },
    {
      "cell_type": "markdown",
      "metadata": {
        "id": "tR37-cMAVARE"
      },
      "source": [
        "While you're waiting, try a different way of downloading the rasters below. Once you have downloaded them, load them into QGIS. Reproject the elevation dataset to a projected coordinate reference system (UTM Zone 15N, WGS84 is a good choice). You can do this by right-clicking on the elevation file, Export, then specify the coordinate reference system.\n",
        "\n",
        "Calculate the slope of the projected coordinate reference system (Raster -> Analysis -> Slope).\n",
        "\n",
        "Identify an area with high landslide risk (high slope/high precipitation), and make a shapefile  over that region.\n",
        "\n",
        "Take a screenshot and include with your report.\n",
        "\n",
        "The precipitation units are the average monthly precipitation in mm. What is the maximum/minimum total precipitation over the study period?"
      ]
    },
    {
      "cell_type": "code",
      "execution_count": null,
      "metadata": {
        "id": "Lz83KHaegOPk"
      },
      "outputs": [],
      "source": [
        "print('GPM precipitation raster download:')\n",
        "getLink(gpm_img,geom)\n",
        "print('Elevation raster download:')\n",
        "getLink(elev,geom)\n",
        "print('PRISM precipitation raster download:')\n",
        "getLink(prism_img,geom)"
      ]
    },
    {
      "cell_type": "markdown",
      "metadata": {
        "id": "gccdXxb2GcTu"
      },
      "source": [
        "Now, we will load the rasters we just downloaded with a separate python package--rasterio--and compare GPM with PRISM."
      ]
    },
    {
      "cell_type": "code",
      "execution_count": null,
      "metadata": {
        "id": "lgnOcr4NGVnD"
      },
      "outputs": [],
      "source": [
        "!pip install rasterio\n",
        "import rasterio\n",
        "from rasterio.warp import reproject, Resampling\n",
        "import matplotlib.pyplot as plt"
      ]
    },
    {
      "cell_type": "markdown",
      "metadata": {
        "id": "BvIb2SjrG5j0"
      },
      "source": [
        "Click on the 'Files' tab on the left. Go to drive > MyDrive > Colab Notebooks. You should see some '.tif' files for prism, gpm and elevation data. If you don't see them yet, you may have to wait a few minutes for them to get saved to the cloud.\n",
        "\n",
        "Now you will load the rasters into python with rasterio. This package works more easily with the usual python packages, making plotting easier."
      ]
    },
    {
      "cell_type": "code",
      "execution_count": 41,
      "metadata": {
        "id": "KuDGSQzwG3SH"
      },
      "outputs": [],
      "source": [
        "folder_location='drive/MyDrive/Colab Notebooks/'\n",
        "gpm=rasterio.open('/content/lab2_gpm_precip_CO.precipitation.tif')\n",
        "prism=rasterio.open('/content/lab2_prism_precip_CO.ppt.tif')\n",
        "elev=rasterio.open('/content/lab2_elev_CO.elevation.tif')"
      ]
    },
    {
      "cell_type": "markdown",
      "metadata": {
        "id": "FxEGaHrfJym5"
      },
      "source": [
        "Now, we will make a crossplot of PRISM and GPM data, with points colored by elevation. PRISM are considered more accurate generally. Comment on the accuracy of the GPM data."
      ]
    },
    {
      "cell_type": "code",
      "execution_count": null,
      "metadata": {
        "id": "5czRL90mJXGZ"
      },
      "outputs": [],
      "source": [
        "gpm_flat=gpm.read().flatten()\n",
        "prism_flat=prism.read().flatten()\n",
        "elev_flat=elev.read().flatten()\n",
        "plt.figure(figsize=(12,8));plt.scatter(gpm_flat,prism_flat,c=elev_flat,s=1)\n",
        "reference_line=[np.nanmin(gpm_flat),np.nanmax(gpm_flat)]\n",
        "plt.plot(reference_line,reference_line,'r')\n",
        "plt.xlabel('GPM precipitation, mm/month')\n",
        "plt.ylabel('PRISM precipitation, mm/month')\n",
        "plt.colorbar()"
      ]
    },
    {
      "cell_type": "markdown",
      "metadata": {},
      "source": []
    },
    {
      "cell_type": "markdown",
      "metadata": {
        "id": "pXw_oaR9Si0J"
      },
      "source": [
        "# Part 2: Repeat the above process, but this time do it over the study area for your term project\n",
        "\n",
        "If you haven't decided on a location for your project yet, you can select an area you are considering for your term project. It's OK to change later.\n",
        "\n",
        "You will need to 'fill in the blanks' for the code below."
      ]
    },
    {
      "cell_type": "code",
      "execution_count": null,
      "metadata": {
        "id": "ov0AgBbuSmsX"
      },
      "outputs": [],
      "source": [
        "# create a bounding box that defines the study area. This will cover the Lake of the Ozarks region\n",
        "geom_study_area = addGeometry(?,?,?,?) # min long, max long, min lat, max lat\n",
        "\n",
        "# define dates of interest (inclusive).\n",
        "start = '?'\n",
        "end = '?'\n",
        "\n",
        "# use the tools in the example from Part 1 to pull GPM precip and elevation data.\n",
        "# NOTE: if you are workin in a region outside of the US, the get_elev function will not work\n",
        "# (it uses the National Elevation Dataset which only covers the US). Use the get_srtm function instead"
      ]
    },
    {
      "cell_type": "markdown",
      "metadata": {
        "id": "XYQbJiMJWZy-"
      },
      "source": [
        "Now, you will display the map. Include a screenshot in your lab report."
      ]
    },
    {
      "cell_type": "code",
      "execution_count": null,
      "metadata": {
        "id": "RuRFha_Vv-IN"
      },
      "outputs": [],
      "source": [
        "my_map = folium.Map(location=[?, ?], zoom_start=11) # location values should be lat, lon. zoom_start: lower values are more zoomed out. Adjust until it looks right.\n",
        "\n",
        "# Add the precip, ET and elevation to your map object\n",
        "my_map.add_ee_layer(geom_study_area,'bounding box')\n",
        "my_map.add_ee_layer(?,'? label')\n",
        "my_map.add_ee_layer(?,'? label')\n",
        "my_map.add_ee_layer(?,'? label')\n",
        "\n",
        "# Add a layer control panel to the map.\n",
        "my_map.add_child(folium.LayerControl())\n",
        "\n",
        "# Display the map.\n",
        "display(my_map)"
      ]
    },
    {
      "cell_type": "markdown",
      "metadata": {
        "id": "KGuwvkABDu67"
      },
      "source": [
        "Download these rasters and display in QGIS as you did before. Repeat the same exercise -- reproject the elevation to a projected CRS, then calculate slope and identify an area of high landslide risk.\n",
        "\n",
        "As before, determine the average precipitation over the study period."
      ]
    },
    {
      "cell_type": "code",
      "execution_count": null,
      "metadata": {
        "id": "znHUDcKxD5hz"
      },
      "outputs": [],
      "source": [
        "print('GPM precipitation raster download:')\n",
        "getLink(?,geom_study_area)\n",
        "print('Elevation raster download:')\n",
        "getLink(?,geom_study_area)\n",
        "print('PRISM precipitation raster download')\n",
        "getLink(?,geom)"
      ]
    },
    {
      "cell_type": "markdown",
      "metadata": {
        "id": "EnsD4Xm1mIOv"
      },
      "source": [
        "If you'd like to get more familiar with python, try creating a new code block to do the same analysis as before (load the rasters with rasterio, then make a crossplot). It's mostly just copying code from above, and changing filenames. This part is not required, but if you try it, you will get more comfortable with python."
      ]
    }
  ],
  "metadata": {
    "colab": {
      "include_colab_link": true,
      "provenance": []
    },
    "kernelspec": {
      "display_name": "Python 3",
      "name": "python3"
    }
  },
  "nbformat": 4,
  "nbformat_minor": 0
}
