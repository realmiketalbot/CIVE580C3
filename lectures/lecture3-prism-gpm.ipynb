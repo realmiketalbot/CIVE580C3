{
  "nbformat": 4,
  "nbformat_minor": 0,
  "metadata": {
    "colab": {
      "provenance": [],
      "authorship_tag": "ABX9TyMfv5HqPJKJUhmGcXHVbD1y",
      "include_colab_link": true
    },
    "kernelspec": {
      "name": "python3",
      "display_name": "Python 3"
    },
    "language_info": {
      "name": "python"
    }
  },
  "cells": [
    {
      "cell_type": "markdown",
      "metadata": {
        "id": "view-in-github",
        "colab_type": "text"
      },
      "source": [
        "<a href=\"https://colab.research.google.com/github/rg-smith/remote-sensing-hydro-2025/blob/main/lectures/lecture3-PRISM-GPM.ipynb\" target=\"_parent\"><img src=\"https://colab.research.google.com/assets/colab-badge.svg\" alt=\"Open In Colab\"/></a>"
      ]
    },
    {
      "cell_type": "code",
      "execution_count": null,
      "metadata": {
        "id": "A6BbkagoMccQ"
      },
      "outputs": [],
      "source": [
        "import ee\n",
        "import folium\n",
        "import numpy as np\n",
        "import branca.colormap as cm\n",
        "import pandas as pd"
      ]
    },
    {
      "cell_type": "code",
      "source": [
        "#if not ee.data._credentials:\n",
        "ee.Authenticate()\n",
        "ee.Initialize(project='XXXX')"
      ],
      "metadata": {
        "id": "6CA3vmiQMnqz"
      },
      "execution_count": null,
      "outputs": []
    },
    {
      "cell_type": "code",
      "source": [
        "# functions needed for this lab (and some other useful ones that you can use if you're interested)\n",
        "\n",
        "# this function is used to add a google earth engine layer to an existing folium map,\n",
        "# for visualization purposes. Folium is a python package that can put rasters/shapefiles on a basemap\n",
        "# the function below is run using an existing folium map. If the folium map defines is my_map, then\n",
        "# my_map.add_ee_layer(ee_object,name)\n",
        "# where ee_object is the object defined in google earth engine, and name is the label in folium\n",
        "def add_ee_layer(self, ee_object, name):\n",
        "    try:\n",
        "        # display ee.Image()\n",
        "        if isinstance(ee_object, ee.image.Image):\n",
        "            range = ee.Image(ee_object).reduceRegion(ee.Reducer.percentile([1, 99]),scale=10000)\n",
        "            vals = range.getInfo()\n",
        "            min=list(vals.items())[0][1]\n",
        "            max=list(vals.items())[1][1]\n",
        "            vis = {'min': min, 'max': max, 'palette': ['0000FF', 'FFFFFF','FF0000']}\n",
        "\n",
        "            map_id_dict = ee.Image(ee_object).getMapId(vis)\n",
        "            folium.raster_layers.TileLayer(\n",
        "            tiles = map_id_dict['tile_fetcher'].url_format,\n",
        "            attr = 'Google Earth Engine',\n",
        "            name = name,\n",
        "            overlay = True,\n",
        "            control = True\n",
        "            ).add_to(self)\n",
        "            colormap = cm.LinearColormap(vmin=min,vmax=max,colors=['blue', 'white','red']).to_step(n=10)\n",
        "            colormap.caption=name\n",
        "            self.add_child(colormap)\n",
        "        # display ee.ImageCollection()\n",
        "        elif isinstance(ee_object, ee.imagecollection.ImageCollection):\n",
        "            ee_object_new = ee_object.mosaic()\n",
        "            map_id_dict = ee.Image(ee_object_new).getMapId(vis_params)\n",
        "            folium.raster_layers.TileLayer(\n",
        "            tiles = map_id_dict['tile_fetcher'].url_format,\n",
        "            attr = 'Google Earth Engine',\n",
        "            name = name,\n",
        "            overlay = True,\n",
        "            control = True\n",
        "            ).add_to(self)\n",
        "        # display ee.Geometry()\n",
        "        elif isinstance(ee_object, ee.geometry.Geometry):\n",
        "            folium.GeoJson(\n",
        "            data = ee_object.getInfo(),\n",
        "            name = name,\n",
        "            overlay = True,\n",
        "            control = True\n",
        "        ).add_to(self)\n",
        "        # display ee.FeatureCollection()\n",
        "        elif isinstance(ee_object, ee.featurecollection.FeatureCollection):\n",
        "            ee_object_new = ee.Image().paint(ee_object, 0, 2)\n",
        "            map_id_dict = ee.Image(ee_object_new).getMapId(vis_params)\n",
        "            folium.raster_layers.TileLayer(\n",
        "            tiles = map_id_dict['tile_fetcher'].url_format,\n",
        "            attr = 'Google Earth Engine',\n",
        "            name = name,\n",
        "            overlay = True,\n",
        "            control = True\n",
        "        ).add_to(self)\n",
        "\n",
        "    except Exception as e:\n",
        "        print(\"Could not display {}\".format(name))\n",
        "        print(e)\n",
        "\n",
        "\n",
        "# to convert a google earth engine image to a python array\n",
        "def to_array(img,aoi):\n",
        "  band_arrs = img.sampleRectangle(region=aoi,properties=['scale=1000'],defaultValue=-999)\n",
        "\n",
        "  band_names=img.bandNames().getInfo()\n",
        "\n",
        "  for kk in range(len(band_names)):\n",
        "    if kk==0:\n",
        "      dat1=np.array(band_arrs.get(band_names[kk]).getInfo())\n",
        "      dat_full=np.zeros((dat1.shape[0],dat1.shape[1],len(band_names)))\n",
        "      dat_full[:,:,kk]=dat1\n",
        "    else:\n",
        "      dat=np.array(band_arrs.get(band_names[kk]).getInfo())\n",
        "      dat_full[:,:,kk]=dat\n",
        "  return(dat_full)\n",
        "\n",
        "# to calculate an index\n",
        "def getIndex(image,b1,b2):\n",
        "  return image.normalizedDifference([b1, b2])\n",
        "\n",
        "# to calculate a ratio\n",
        "def getRatio(image1,image2):\n",
        "  ratio=image1.divide(image2)\n",
        "  return ratio\n",
        "\n",
        "# to create a color map from a specific image\n",
        "def getVisparams(image,aoi):\n",
        "  range = image.reduceRegion(ee.Reducer.percentile([1, 99]),aoi,300)\n",
        "  vals = range.getInfo()\n",
        "  min=list(vals.items())[0][1]\n",
        "  max=list(vals.items())[1][1]\n",
        "  visParams = {'min': min, 'max': max, 'palette': ['0000FF', 'FFFFFF','FF0000']}\n",
        "  return(visParams)\n",
        "\n",
        "# to get the link to download an earth engine image\n",
        "def getLink(image,aoi):\n",
        "  link = image.getDownloadURL({\n",
        "    'scale': 1000,\n",
        "    'crs': 'EPSG:4326',\n",
        "    'fileFormat': 'GeoTIFF',\n",
        "    'region': aoi})\n",
        "  print(link)\n",
        "\n",
        "# create an earth engine geometry polygon\n",
        "def addGeometry(min_lon,max_lon,min_lat,max_lat):\n",
        "\n",
        "  geom = ee.Geometry.Polygon(\n",
        "      [[[min_lon, max_lat],\n",
        "        [min_lon, min_lat],\n",
        "        [max_lon, min_lat],\n",
        "        [max_lon, max_lat]]])\n",
        "  return(geom)\n",
        "\n",
        "def get_imgcollection(date1,date2,geometry,collection_name,band_name,function='mean'):\n",
        "  collection = ee.ImageCollection(collection_name)\n",
        "  if function=='mean':\n",
        "      img = collection.filterDate(date1,date2).select(band_name).mean().clip(geometry)\n",
        "  if function=='sum':\n",
        "      img = collection.filterDate(date1,date2).select(band_name).sum().clip(geometry)\n",
        " # range = img.reduceRegion(ee.Reducer.percentile([1, 99]),scale=10000)\n",
        " # vals = range.getInfo()\n",
        " # min=list(vals.items())[0][1]\n",
        " # max=list(vals.items())[1][1]\n",
        " # visParams = {'min': min, 'max': max, 'palette': ['0000FF', 'FFFFFF','FF0000']}\n",
        "  return(img)\n",
        "\n",
        "# load prism data\n",
        "def get_prism_image(date1,date2,geometry):\n",
        "\n",
        "  prism = ee.ImageCollection('OREGONSTATE/PRISM/AN81m')\n",
        "  prism_img = prism.filterDate(date1,date2).select('ppt').mean().clip(geometry)\n",
        "  return(prism_img) # returns prism average monthly precipitation, in mm\n",
        "\n",
        "# load landsat 8 data\n",
        "def get_l8_image(date1,date2,geometry):\n",
        "\n",
        "  l8 = ee.ImageCollection('LANDSAT/LC08/C01/T1_RT')\n",
        "  l8_img = l8.filterDate(date1,date2).mean().clip(geometry)\n",
        "  return(l8_img)\n",
        "\n",
        "# to export an image to google drive\n",
        "def export_to_drive(raster,filename,foldername,geometry):\n",
        "  # Export the image, specifying scale and region.\n",
        "  task = ee.batch.Export.image.toDrive(**{\n",
        "      'image': raster,\n",
        "      'description': filename,\n",
        "      'folder': foldername,\n",
        "      'fileNamePrefix': filename,\n",
        "      'scale': 1000,\n",
        "      'region': geometry,\n",
        "      'fileFormat': 'GeoTIFF',\n",
        "      'formatOptions': {\n",
        "        'cloudOptimized': 'true'\n",
        "      },\n",
        "  })\n",
        "  task.start()\n",
        "\n",
        "# to create an elevation raster from the USGS NED in google earth engine from a user-defined geometry\n",
        "def get_elev(geometry):\n",
        "\n",
        "  elev = ee.Image('USGS/NED').clip(geometry)\n",
        "  return(elev)\n",
        "\n",
        "# to create an elevation raster from the SRTM in google earth engine from a user-defined geometry\n",
        "def get_srtm(geometry):\n",
        "\n",
        "  elev = ee.Image('USGS/SRTMGL1_003').clip(geometry)\n",
        "  return(elev)\n",
        "\n",
        "# to create a temporally averaged precipitation raster from GPM from a user-defined geometry\n",
        "def get_gpm_image(date1,date2,geometry):\n",
        "\n",
        "  gpm = ee.ImageCollection('NASA/GPM_L3/IMERG_MONTHLY_V07')\n",
        "  gpm_img = gpm.filterDate(date1,date2).select('precipitation').mean().multiply(24*365/12).clip(geometry) # convert from mm/hour to mm/month\n",
        "  return(gpm_img) # returns gpm average monthly precipitation in mm\n",
        "\n",
        "# to create a temporally averaged actual ET raster from the openET ensemble from a user-defined geometry\n",
        "def get_openET_image(date1,date2,geometry):\n",
        "\n",
        "  openET = ee.ImageCollection('OpenET/ENSEMBLE/CONUS/GRIDMET/MONTHLY/v2_0')\n",
        "  openET_img = openET.filterDate(date1,date2).select('et_ensemble_mad').mean().clip(geometry)\n",
        "  return(openET_img)\n",
        "\n",
        "# to create a temporally averaged reference ET raster from the openET ensemble from a user-defined geometry\n",
        "def get_RET(date1,date2,geometry):\n",
        "\n",
        "  ETR = ee.ImageCollection('IDAHO_EPSCOR/GRIDMET')\n",
        "  ETR_image = ETR.filterDate(date1,date2).select('etr').mean().multiply(365/12).clip(geometry) # convert from mm/day to mm/month\n",
        "  return(ETR_image)\n",
        "\n",
        "# load sentinel 2 data\n",
        "def get_s2_image(date1,date2,geometry):\n",
        "\n",
        "    s2 = ee.ImageCollection('COPERNICUS/S2')\n",
        "    s2_img = s2.filterDate(date1,date2).filterBounds(geometry).first().clip(geometry)\n",
        "    return(s2_img)\n",
        "\n",
        "# Add EE drawing method to folium (not a function)\n",
        "folium.Map.add_ee_layer = add_ee_layer\n",
        "\n",
        "def create_reduce_region_function(geometry,\n",
        "                                  reducer=ee.Reducer.mean(),\n",
        "                                  scale=1000,\n",
        "                                  crs='EPSG:4326',\n",
        "                                  bestEffort=True,\n",
        "                                  maxPixels=1e13,\n",
        "                                  tileScale=4):\n",
        "  \"\"\"Creates a region reduction function.\n",
        "\n",
        "  Creates a region reduction function intended to be used as the input function\n",
        "  to ee.ImageCollection.map() for reducing pixels intersecting a provided region\n",
        "  to a statistic for each image in a collection. See ee.Image.reduceRegion()\n",
        "  documentation for more details.\n",
        "\n",
        "  Args:\n",
        "    geometry:\n",
        "      An ee.Geometry that defines the region over which to reduce data.\n",
        "    reducer:\n",
        "      Optional; An ee.Reducer that defines the reduction method.\n",
        "    scale:\n",
        "      Optional; A number that defines the nominal scale in meters of the\n",
        "      projection to work in.\n",
        "    crs:\n",
        "      Optional; An ee.Projection or EPSG string ('EPSG:5070') that defines\n",
        "      the projection to work in.\n",
        "    bestEffort:\n",
        "      Optional; A Boolean indicator for whether to use a larger scale if the\n",
        "      geometry contains too many pixels at the given scale for the operation\n",
        "      to succeed.\n",
        "    maxPixels:\n",
        "      Optional; A number specifying the maximum number of pixels to reduce.\n",
        "    tileScale:\n",
        "      Optional; A number representing the scaling factor used to reduce\n",
        "      aggregation tile size; using a larger tileScale (e.g. 2 or 4) may enable\n",
        "      computations that run out of memory with the default.\n",
        "\n",
        "  Returns:\n",
        "    A function that accepts an ee.Image and reduces it by region, according to\n",
        "    the provided arguments.\n",
        "  \"\"\"\n",
        "\n",
        "  def reduce_region_function(img):\n",
        "    \"\"\"Applies the ee.Image.reduceRegion() method.\n",
        "\n",
        "    Args:\n",
        "      img:\n",
        "        An ee.Image to reduce to a statistic by region.\n",
        "\n",
        "    Returns:\n",
        "      An ee.Feature that contains properties representing the image region\n",
        "      reduction results per band and the image timestamp formatted as\n",
        "      milliseconds from Unix epoch (included to enable time series plotting).\n",
        "    \"\"\"\n",
        "\n",
        "    stat = img.reduceRegion(\n",
        "        reducer=reducer,\n",
        "        geometry=geometry,\n",
        "        scale=scale,\n",
        "        crs=crs,\n",
        "        bestEffort=bestEffort,\n",
        "        maxPixels=maxPixels,\n",
        "        tileScale=tileScale)\n",
        "\n",
        "    return ee.Feature(geometry, stat).set({'millis': img.date().millis()})\n",
        "  return reduce_region_function\n",
        "\n",
        "# Define a function to transfer feature properties to a dictionary.\n",
        "def fc_to_dict(fc):\n",
        "  prop_names = fc.first().propertyNames()\n",
        "  prop_lists = fc.reduceColumns(\n",
        "      reducer=ee.Reducer.toList().repeat(prop_names.size()),\n",
        "      selectors=prop_names).get('list')\n",
        "\n",
        "  return ee.Dictionary.fromLists(prop_names, prop_lists)\n",
        "\n",
        "# generate data frame from image collection\n",
        "def gee_zonal_mean_img_coll(imageCollection,geometry,scale=1000):\n",
        "    reduce_iC = create_reduce_region_function(geometry = geometry, scale=scale)\n",
        "    stat_fc = ee.FeatureCollection(imageCollection.map(reduce_iC)).filter(ee.Filter.notNull(imageCollection.first().bandNames()))\n",
        "    fc_dict = fc_to_dict(stat_fc).getInfo()\n",
        "\n",
        "    df = pd.DataFrame(fc_dict)\n",
        "    df['date'] = pd.to_datetime(df['millis'],unit='ms')\n",
        "    return(df)\n",
        "\n",
        "def gee_zonal_mean(date1,date2,geometry,collection_name,band_name,scale=1000):\n",
        "     imcol = ee.ImageCollection(collection_name).select(band_name).filterDate(date1,date2)\n",
        "     df = gee_zonal_mean_img_coll(imcol,geometry,scale=scale)\n",
        "     return(df)"
      ],
      "metadata": {
        "id": "FljOnuffMqSu"
      },
      "execution_count": null,
      "outputs": []
    },
    {
      "cell_type": "code",
      "source": [
        "# create a bounding box that defines the study area\n",
        "# geom = addGeometry(-109, -102,37,41) # min long, max long, min lat, max lat (colorado)\n",
        "geom = addGeometry(-102, -94.6,37,40) # min long, max long, min lat, max lat (kansas)\n",
        "\n",
        "# define dates of interest (inclusive).\n",
        "start = '2019-10-01'\n",
        "end = '2020-10-01' #can go up to april 2021\n",
        "\n",
        "# get elevation data\n",
        "elev = get_elev(geom)\n",
        "\n",
        "# now get gpm precipitation over the same region for a specified time period\n",
        "#  use get_imgcollection to create variable gpm_img (mean precip)\n",
        "\n",
        "# now get prism precipitation over the same time period/region"
      ],
      "metadata": {
        "id": "-q6oMHdfMt-Y"
      },
      "execution_count": null,
      "outputs": []
    },
    {
      "cell_type": "code",
      "source": [
        "my_map = folium.Map(location=[39, -98], zoom_start=7)\n",
        "\n",
        "my_map.add_ee_layer(geom,'bounding box')\n",
        "my_map.add_ee_layer(elev,'Elevation (m)')\n",
        "my_map.add_ee_layer(prism_img,'PRISM precip (mm/month)')\n",
        "my_map.add_ee_layer(gpm_img,'GPM precip (mm/month)')"
      ],
      "metadata": {
        "id": "IJugPzbLM3U3"
      },
      "execution_count": null,
      "outputs": []
    },
    {
      "cell_type": "code",
      "source": [
        "# Add a layer control panel to the map.\n",
        "my_map.add_child(folium.LayerControl())\n",
        "\n",
        "# Display the map.\n",
        "display(my_map)"
      ],
      "metadata": {
        "id": "kFA-4eLDPLYY"
      },
      "execution_count": null,
      "outputs": []
    },
    {
      "cell_type": "markdown",
      "source": [
        "Now, we will compare precipitation products at the Denver International Airport"
      ],
      "metadata": {
        "id": "AUI3sbzQgpAH"
      }
    },
    {
      "cell_type": "code",
      "source": [
        "# coordinates to DIA\n",
        "lat = 39.86\n",
        "lon = -104.68"
      ],
      "metadata": {
        "id": "YAIttFineTNI"
      },
      "execution_count": null,
      "outputs": []
    },
    {
      "cell_type": "code",
      "source": [
        "import pandas as pd\n",
        "\n",
        "fc = ee.Geometry.Point([lon,lat])\n",
        "# use gee_zonal_mean to get precip data from GPM from 2023-01-01 to 2024-12-31\n"
      ],
      "metadata": {
        "id": "lqa-T8tKeFHm"
      },
      "execution_count": null,
      "outputs": []
    },
    {
      "cell_type": "code",
      "source": [
        "# repeat exercise for prism"
      ],
      "metadata": {
        "id": "5yycJNmMfw5x"
      },
      "execution_count": null,
      "outputs": []
    },
    {
      "cell_type": "markdown",
      "source": [
        "We'll install meteostat, a python package that downloads precipitation data"
      ],
      "metadata": {
        "id": "weqzHXgZgybD"
      }
    },
    {
      "cell_type": "code",
      "source": [
        "pip install meteostat"
      ],
      "metadata": {
        "id": "-VFUWY7weGn1"
      },
      "execution_count": null,
      "outputs": []
    },
    {
      "cell_type": "code",
      "source": [
        "from meteostat import Point, Monthly\n",
        "from datetime import datetime\n",
        "\n",
        "location = Point(lat, lon)\n",
        "\n",
        "station_m = Monthly(location,datetime(2023,1,1),datetime(2025,2,1))\n",
        "station_m_data = station_m.fetch()\n",
        "print(station_m_data)"
      ],
      "metadata": {
        "id": "4z0xk4BleJpH"
      },
      "execution_count": null,
      "outputs": []
    },
    {
      "cell_type": "code",
      "source": [
        "# plot data together"
      ],
      "metadata": {
        "id": "kTh9xnA9exA1"
      },
      "execution_count": null,
      "outputs": []
    }
  ]
}