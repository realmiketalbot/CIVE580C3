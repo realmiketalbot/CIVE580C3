{
  "nbformat": 4,
  "nbformat_minor": 0,
  "metadata": {
    "colab": {
      "provenance": [],
      "toc_visible": true,
      "authorship_tag": "ABX9TyOBQZRbSQPfIPSYlYIdwEHz",
      "include_colab_link": true
    },
    "kernelspec": {
      "name": "python3",
      "display_name": "Python 3"
    },
    "language_info": {
      "name": "python"
    }
  },
  "cells": [
    {
      "cell_type": "markdown",
      "metadata": {
        "id": "view-in-github",
        "colab_type": "text"
      },
      "source": [
        "<a href=\"https://colab.research.google.com/github/rg-smith/remote-sensing-hydro-2025/blob/main/lectures/lecture5-microwave.ipynb\" target=\"_parent\"><img src=\"https://colab.research.google.com/assets/colab-badge.svg\" alt=\"Open In Colab\"/></a>"
      ]
    },
    {
      "cell_type": "markdown",
      "source": [
        "# Lecture 5: Microwave Remote Sensing\n",
        "In this notebook, we will view SAR backscatter (amplitude) and passive microwave brightness. SAR phase data will be downloaded and viewed in a separate lab."
      ],
      "metadata": {
        "id": "IKYnFWV093kp"
      }
    },
    {
      "cell_type": "markdown",
      "metadata": {
        "id": "5T6YjlAOtlxp"
      },
      "source": [
        "First we need to install a couple packages. If this shows an error after running, try the next code block. If it runs without an error, then you should be ok."
      ]
    },
    {
      "cell_type": "code",
      "metadata": {
        "id": "JS_go2y2lnbj"
      },
      "source": [
        "pip install geemap pycrs"
      ],
      "execution_count": null,
      "outputs": []
    },
    {
      "cell_type": "code",
      "metadata": {
        "id": "GQzx_BlImXbG"
      },
      "source": [
        "import ee\n",
        "import numpy as np\n",
        "import pandas as pd\n",
        "import matplotlib.pyplot as plt\n",
        "import geopandas as gpd\n",
        "import requests\n",
        "from tqdm import tqdm\n",
        "import zipfile\n",
        "import os\n",
        "import pandas as pd\n",
        "from glob import glob\n",
        "import geemap\n",
        "import folium\n",
        "import branca.colormap as cm"
      ],
      "execution_count": 2,
      "outputs": []
    },
    {
      "cell_type": "code",
      "source": [
        "# you only need to run this once per session\n",
        "ee.Authenticate()\n",
        "ee.Initialize(project='replace with project name')"
      ],
      "metadata": {
        "colab": {
          "base_uri": "https://localhost:8080/",
          "height": 17
        },
        "id": "saDQ6tmV6ZpN",
        "outputId": "261a9657-7d32-4e28-b5a9-15d50d742de6"
      },
      "execution_count": 3,
      "outputs": [
        {
          "output_type": "display_data",
          "data": {
            "text/plain": [
              "<IPython.core.display.HTML object>"
            ],
            "text/html": [
              "\n",
              "            <style>\n",
              "                .geemap-dark {\n",
              "                    --jp-widgets-color: white;\n",
              "                    --jp-widgets-label-color: white;\n",
              "                    --jp-ui-font-color1: white;\n",
              "                    --jp-layout-color2: #454545;\n",
              "                    background-color: #383838;\n",
              "                }\n",
              "\n",
              "                .geemap-dark .jupyter-button {\n",
              "                    --jp-layout-color3: #383838;\n",
              "                }\n",
              "\n",
              "                .geemap-colab {\n",
              "                    background-color: var(--colab-primary-surface-color, white);\n",
              "                }\n",
              "\n",
              "                .geemap-colab .jupyter-button {\n",
              "                    --jp-layout-color3: var(--colab-primary-surface-color, white);\n",
              "                }\n",
              "            </style>\n",
              "            "
            ]
          },
          "metadata": {}
        }
      ]
    },
    {
      "cell_type": "markdown",
      "source": [
        "# Define custom functions for working with Google Earth Engine"
      ],
      "metadata": {
        "id": "pgvYXorcjksE"
      }
    },
    {
      "cell_type": "code",
      "metadata": {
        "id": "GZrWPT00muOp",
        "colab": {
          "base_uri": "https://localhost:8080/",
          "height": 17
        },
        "outputId": "01390ab0-2d0d-46f5-9438-7a46165e4ddd"
      },
      "source": [
        "def add_ee_layer(self, ee_object, name):\n",
        "    try:\n",
        "        # display ee.Image()\n",
        "        if isinstance(ee_object, ee.image.Image):\n",
        "            range = ee.Image(ee_object).reduceRegion(ee.Reducer.percentile([1, 99]),scale=10000)\n",
        "            vals = range.getInfo()\n",
        "            min=list(vals.items())[0][1]\n",
        "            max=list(vals.items())[1][1]\n",
        "            vis = {'min': min, 'max': max, 'palette': ['0000FF', 'FFFFFF','FF0000']}\n",
        "\n",
        "            map_id_dict = ee.Image(ee_object).getMapId(vis)\n",
        "            folium.raster_layers.TileLayer(\n",
        "            tiles = map_id_dict['tile_fetcher'].url_format,\n",
        "            attr = 'Google Earth Engine',\n",
        "            name = name,\n",
        "            overlay = True,\n",
        "            control = True\n",
        "            ).add_to(self)\n",
        "            colormap = cm.LinearColormap(vmin=min,vmax=max,colors=['blue', 'white','red']).to_step(n=10)\n",
        "            colormap.caption=name\n",
        "            self.add_child(colormap)\n",
        "        # display ee.ImageCollection()\n",
        "        elif isinstance(ee_object, ee.imagecollection.ImageCollection):\n",
        "            ee_object_new = ee_object.mosaic()\n",
        "            map_id_dict = ee.Image(ee_object_new).getMapId(vis_params)\n",
        "            folium.raster_layers.TileLayer(\n",
        "            tiles = map_id_dict['tile_fetcher'].url_format,\n",
        "            attr = 'Google Earth Engine',\n",
        "            name = name,\n",
        "            overlay = True,\n",
        "            control = True\n",
        "            ).add_to(self)\n",
        "        # display ee.Geometry()\n",
        "        elif isinstance(ee_object, ee.geometry.Geometry):\n",
        "            folium.GeoJson(\n",
        "            data = ee_object.getInfo(),\n",
        "            name = name,\n",
        "            overlay = True,\n",
        "            control = True\n",
        "        ).add_to(self)\n",
        "        # display ee.FeatureCollection()\n",
        "        elif isinstance(ee_object, ee.featurecollection.FeatureCollection):\n",
        "            ee_object_new = ee.Image().paint(ee_object, 0, 2)\n",
        "            map_id_dict = ee.Image(ee_object_new).getMapId(vis_params)\n",
        "            folium.raster_layers.TileLayer(\n",
        "            tiles = map_id_dict['tile_fetcher'].url_format,\n",
        "            attr = 'Google Earth Engine',\n",
        "            name = name,\n",
        "            overlay = True,\n",
        "            control = True\n",
        "        ).add_to(self)\n",
        "\n",
        "    except Exception as e:\n",
        "        print(\"Could not display {}\".format(name))\n",
        "        print(e)\n",
        "\n",
        "# Add EE drawing method to folium (not a function)\n",
        "folium.Map.add_ee_layer = add_ee_layer\n",
        "\n",
        "def create_reduce_region_function(geometry,\n",
        "                                  reducer=ee.Reducer.mean(),\n",
        "                                  scale=1000,\n",
        "                                  crs='EPSG:4326',\n",
        "                                  bestEffort=True,\n",
        "                                  maxPixels=1e13,\n",
        "                                  tileScale=4):\n",
        "  \"\"\"Creates a region reduction function.\n",
        "\n",
        "  Creates a region reduction function intended to be used as the input function\n",
        "  to ee.ImageCollection.map() for reducing pixels intersecting a provided region\n",
        "  to a statistic for each image in a collection. See ee.Image.reduceRegion()\n",
        "  documentation for more details.\n",
        "\n",
        "  Args:\n",
        "    geometry:\n",
        "      An ee.Geometry that defines the region over which to reduce data.\n",
        "    reducer:\n",
        "      Optional; An ee.Reducer that defines the reduction method.\n",
        "    scale:\n",
        "      Optional; A number that defines the nominal scale in meters of the\n",
        "      projection to work in.\n",
        "    crs:\n",
        "      Optional; An ee.Projection or EPSG string ('EPSG:5070') that defines\n",
        "      the projection to work in.\n",
        "    bestEffort:\n",
        "      Optional; A Boolean indicator for whether to use a larger scale if the\n",
        "      geometry contains too many pixels at the given scale for the operation\n",
        "      to succeed.\n",
        "    maxPixels:\n",
        "      Optional; A number specifying the maximum number of pixels to reduce.\n",
        "    tileScale:\n",
        "      Optional; A number representing the scaling factor used to reduce\n",
        "      aggregation tile size; using a larger tileScale (e.g. 2 or 4) may enable\n",
        "      computations that run out of memory with the default.\n",
        "\n",
        "  Returns:\n",
        "    A function that accepts an ee.Image and reduces it by region, according to\n",
        "    the provided arguments.\n",
        "  \"\"\"\n",
        "\n",
        "  def reduce_region_function(img):\n",
        "    \"\"\"Applies the ee.Image.reduceRegion() method.\n",
        "\n",
        "    Args:\n",
        "      img:\n",
        "        An ee.Image to reduce to a statistic by region.\n",
        "\n",
        "    Returns:\n",
        "      An ee.Feature that contains properties representing the image region\n",
        "      reduction results per band and the image timestamp formatted as\n",
        "      milliseconds from Unix epoch (included to enable time series plotting).\n",
        "    \"\"\"\n",
        "\n",
        "    stat = img.reduceRegion(\n",
        "        reducer=reducer,\n",
        "        geometry=geometry,\n",
        "        scale=scale,\n",
        "        crs=crs,\n",
        "        bestEffort=bestEffort,\n",
        "        maxPixels=maxPixels,\n",
        "        tileScale=tileScale)\n",
        "\n",
        "    return ee.Feature(geometry, stat).set({'millis': img.date().millis()})\n",
        "  return reduce_region_function\n",
        "\n",
        "def gee_zonal_mean_img_coll(imageCollection,geometry,scale=1000):\n",
        "    reduce_iC = create_reduce_region_function(geometry = geometry, scale=scale)\n",
        "    stat_fc = ee.FeatureCollection(imageCollection.map(reduce_iC)).filter(ee.Filter.notNull(imageCollection.first().bandNames()))\n",
        "    fc_dict = fc_to_dict(stat_fc).getInfo()\n",
        "\n",
        "    df = pd.DataFrame(fc_dict)\n",
        "    df['date'] = pd.to_datetime(df['millis'],unit='ms')\n",
        "    return(df)\n",
        "\n",
        "def gee_zonal_mean(date1,date2,geometry,collection_name,band_name,scale=1000):\n",
        "     imcol = ee.ImageCollection(collection_name).select(band_name).filterDate(date1,date2)\n",
        "     df = gee_zonal_mean_img_coll(imcol,geometry,scale=scale)\n",
        "     return(df)\n",
        "\n",
        "\n",
        "# Define a function to transfer feature properties to a dictionary.\n",
        "def fc_to_dict(fc):\n",
        "  prop_names = fc.first().propertyNames()\n",
        "  prop_lists = fc.reduceColumns(\n",
        "      reducer=ee.Reducer.toList().repeat(prop_names.size()),\n",
        "      selectors=prop_names).get('list')\n",
        "\n",
        "  return ee.Dictionary.fromLists(prop_names, prop_lists)\n",
        "\n",
        "def ee_imgcoll_to_df_point(imagecollection, lat,lon):\n",
        "    \"\"\"Transforms client-side ee.Image.getRegion array to pandas.DataFrame.\"\"\"\n",
        "    poi = ee.Geometry.Point(lon, lat)\n",
        "    arr = imagecollection.getRegion(poi,1000).getInfo()\n",
        "\n",
        "    list_of_bands = imagecollection.first().bandNames().getInfo()\n",
        "\n",
        "    df = pd.DataFrame(arr)\n",
        "\n",
        "    # Rearrange the header.\n",
        "    headers = df.iloc[0]\n",
        "    df = pd.DataFrame(df.values[1:], columns=headers)\n",
        "\n",
        "    # Remove rows without data inside.\n",
        "    df = df[['longitude', 'latitude', 'time', *list_of_bands]].dropna()\n",
        "\n",
        "    # Convert the data to numeric values.\n",
        "    for band in list_of_bands:\n",
        "        df[band] = pd.to_numeric(df[band], errors='coerce')\n",
        "\n",
        "    # Convert the time field into a datetime.\n",
        "    df['datetime'] = pd.to_datetime(df['time'], unit='ms')\n",
        "\n",
        "    # Keep the columns of interest.\n",
        "    df = df[['time','datetime',  *list_of_bands]]\n",
        "\n",
        "    return df\n",
        "\n",
        "# to get the link to download an earth engine image\n",
        "def getLink(image,fname,aoi):\n",
        "  link = image.getDownloadURL({\n",
        "    'scale': 1000,\n",
        "    'crs': 'EPSG:4326',\n",
        "    'fileFormat': 'GeoTIFF',\n",
        "    'region': aoi,\n",
        "    'name': fname})\n",
        "  # print(link)\n",
        "  return(link)\n",
        "\n",
        "# create an earth engine geometry polygon\n",
        "def addGeometry(min_lon,max_lon,min_lat,max_lat):\n",
        "  geom = ee.Geometry.Polygon(\n",
        "      [[[min_lon, max_lat],\n",
        "        [min_lon, min_lat],\n",
        "        [max_lon, min_lat],\n",
        "        [max_lon, max_lat]]])\n",
        "  return(geom)\n",
        "\n",
        "def get_imgcollection(date1,date2,geometry,collection_name,band_name,function='mean'):\n",
        "  collection = ee.ImageCollection(collection_name).filter(ee.Filter.listContains('system:band_names', band_name))\n",
        "  if function=='mean':\n",
        "      img = collection.filterDate(date1,date2).select(band_name).mean().clip(geometry)\n",
        "  if function=='sum':\n",
        "      img = collection.filterDate(date1,date2).select(band_name).sum().clip(geometry)\n",
        " # range = img.reduceRegion(ee.Reducer.percentile([1, 99]),scale=10000)\n",
        " # vals = range.getInfo()\n",
        " # min=list(vals.items())[0][1]\n",
        " # max=list(vals.items())[1][1]\n",
        " # visParams = {'min': min, 'max': max, 'palette': ['0000FF', 'FFFFFF','FF0000']}\n",
        "  return(img)\n",
        "\n",
        "def download_img(img,geom,fname):\n",
        "    linkname = getLink(img,fname,geom)\n",
        "    response = requests.get(linkname, stream=True)\n",
        "    zipped = fname+'.zip'\n",
        "    with open(zipped, \"wb\") as handle:\n",
        "        for data in tqdm(response.iter_content()):\n",
        "            handle.write(data)\n",
        "\n",
        "    with zipfile.ZipFile(zipped, 'r') as zip_ref:\n",
        "        zip_ref.extractall('')\n",
        "    os.remove(zipped)\n",
        "\n",
        "\n",
        "def aggregate_by_water_year(df,date_col,agg_column,agg_fun='sum'):\n",
        "    df['water_year'] = df[date_col].dt.year.where(df[date_col].dt.month < 10, df[date_col].dt.year + 1)\n",
        "    df_agg = df.groupby('water_year').agg({agg_column:[agg_fun]})\n",
        "    return(df_agg)"
      ],
      "execution_count": 33,
      "outputs": [
        {
          "output_type": "display_data",
          "data": {
            "text/plain": [
              "<IPython.core.display.HTML object>"
            ],
            "text/html": [
              "\n",
              "            <style>\n",
              "                .geemap-dark {\n",
              "                    --jp-widgets-color: white;\n",
              "                    --jp-widgets-label-color: white;\n",
              "                    --jp-ui-font-color1: white;\n",
              "                    --jp-layout-color2: #454545;\n",
              "                    background-color: #383838;\n",
              "                }\n",
              "\n",
              "                .geemap-dark .jupyter-button {\n",
              "                    --jp-layout-color3: #383838;\n",
              "                }\n",
              "\n",
              "                .geemap-colab {\n",
              "                    background-color: var(--colab-primary-surface-color, white);\n",
              "                }\n",
              "\n",
              "                .geemap-colab .jupyter-button {\n",
              "                    --jp-layout-color3: var(--colab-primary-surface-color, white);\n",
              "                }\n",
              "            </style>\n",
              "            "
            ]
          },
          "metadata": {}
        }
      ]
    },
    {
      "cell_type": "markdown",
      "source": [
        "# Load and map SAR amplitude and microwave brightness"
      ],
      "metadata": {
        "id": "7NTgB99p9pFf"
      }
    },
    {
      "cell_type": "code",
      "source": [
        "start='2020-06-01'\n",
        "end='2020-09-30'\n",
        "\n",
        "geom = addGeometry(-102, -95,37,40) # min long, max long, min lat, max lat (kansas)"
      ],
      "metadata": {
        "colab": {
          "base_uri": "https://localhost:8080/",
          "height": 17
        },
        "id": "xBwgdYMO92Wp",
        "outputId": "aa59112b-615e-485f-fcd1-9ad6dcd733d4"
      },
      "execution_count": 40,
      "outputs": [
        {
          "output_type": "display_data",
          "data": {
            "text/plain": [
              "<IPython.core.display.HTML object>"
            ],
            "text/html": [
              "\n",
              "            <style>\n",
              "                .geemap-dark {\n",
              "                    --jp-widgets-color: white;\n",
              "                    --jp-widgets-label-color: white;\n",
              "                    --jp-ui-font-color1: white;\n",
              "                    --jp-layout-color2: #454545;\n",
              "                    background-color: #383838;\n",
              "                }\n",
              "\n",
              "                .geemap-dark .jupyter-button {\n",
              "                    --jp-layout-color3: #383838;\n",
              "                }\n",
              "\n",
              "                .geemap-colab {\n",
              "                    background-color: var(--colab-primary-surface-color, white);\n",
              "                }\n",
              "\n",
              "                .geemap-colab .jupyter-button {\n",
              "                    --jp-layout-color3: var(--colab-primary-surface-color, white);\n",
              "                }\n",
              "            </style>\n",
              "            "
            ]
          },
          "metadata": {}
        }
      ]
    },
    {
      "cell_type": "code",
      "source": [
        "# first create temporally reduced images\n",
        "\n",
        "smap_v = get_imgcollection(start,end,geom,'NASA/SMAP/SPL3SMP_E/006','tb_v_corrected_am','mean')\n",
        "sar_v = get_imgcollection(start,end,geom,'COPERNICUS/S1_GRD','VV','mean')\n"
      ],
      "metadata": {
        "colab": {
          "base_uri": "https://localhost:8080/",
          "height": 17
        },
        "id": "XdxneXL0jPug",
        "outputId": "f67bb7c8-a57d-4411-dc89-858892209b1e"
      },
      "execution_count": 41,
      "outputs": [
        {
          "output_type": "display_data",
          "data": {
            "text/plain": [
              "<IPython.core.display.HTML object>"
            ],
            "text/html": [
              "\n",
              "            <style>\n",
              "                .geemap-dark {\n",
              "                    --jp-widgets-color: white;\n",
              "                    --jp-widgets-label-color: white;\n",
              "                    --jp-ui-font-color1: white;\n",
              "                    --jp-layout-color2: #454545;\n",
              "                    background-color: #383838;\n",
              "                }\n",
              "\n",
              "                .geemap-dark .jupyter-button {\n",
              "                    --jp-layout-color3: #383838;\n",
              "                }\n",
              "\n",
              "                .geemap-colab {\n",
              "                    background-color: var(--colab-primary-surface-color, white);\n",
              "                }\n",
              "\n",
              "                .geemap-colab .jupyter-button {\n",
              "                    --jp-layout-color3: var(--colab-primary-surface-color, white);\n",
              "                }\n",
              "            </style>\n",
              "            "
            ]
          },
          "metadata": {}
        }
      ]
    },
    {
      "cell_type": "code",
      "source": [
        "# generate folium map of one of the regions\n",
        "\n",
        "# now map them on folium\n",
        "my_map = folium.Map(location=[38.5, -101], zoom_start=7)\n",
        "\n",
        "my_map.add_ee_layer(geom,'geom')\n",
        "my_map.add_ee_layer(smap_v,'Microwave Brightness')\n",
        "my_map.add_ee_layer(sar_v,'SAR Backscatter')\n",
        "\n",
        "my_map.add_child(folium.LayerControl())\n",
        "display(my_map)"
      ],
      "metadata": {
        "id": "TKGRNWfec6Q0"
      },
      "execution_count": null,
      "outputs": []
    },
    {
      "cell_type": "markdown",
      "source": [
        "## Discussion\n",
        "Discuss with a partner the differences you observe in radar backscatter and passive microwave brightness. What properties cause this difference?"
      ],
      "metadata": {
        "id": "l-TYIj6Br5CS"
      }
    },
    {
      "cell_type": "markdown",
      "source": [
        "# Pick a new area to look at!"
      ],
      "metadata": {
        "id": "XsjZ7urHsEc8"
      }
    },
    {
      "cell_type": "code",
      "source": [
        "# placeholder code"
      ],
      "metadata": {
        "id": "d8_gVd2zsHDx"
      },
      "execution_count": null,
      "outputs": []
    }
  ]
}