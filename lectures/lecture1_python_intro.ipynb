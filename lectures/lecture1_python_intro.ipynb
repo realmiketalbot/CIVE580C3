{
  "cells": [
    {
      "cell_type": "markdown",
      "metadata": {
        "id": "view-in-github",
        "colab_type": "text"
      },
      "source": [
        "<a href=\"https://colab.research.google.com/github/realmiketalbot/remote-sensing-hydro-2025/blob/main/lectures/lecture1_python_intro.ipynb\" target=\"_parent\"><img src=\"https://colab.research.google.com/assets/colab-badge.svg\" alt=\"Open In Colab\"/></a>"
      ]
    },
    {
      "cell_type": "code",
      "source": [
        "#!git clone https://github.com/realmiketalbot/remote-sensing-hydro-2025.git"
      ],
      "metadata": {
        "id": "dLD2ZWXSAvRC"
      },
      "id": "dLD2ZWXSAvRC",
      "execution_count": 17,
      "outputs": []
    },
    {
      "cell_type": "markdown",
      "id": "28750536-9484-4335-ab95-2d2aaf7de4a0",
      "metadata": {
        "id": "28750536-9484-4335-ab95-2d2aaf7de4a0"
      },
      "source": [
        "defining variables"
      ]
    },
    {
      "cell_type": "code",
      "execution_count": 18,
      "id": "80e50657-803b-4c9e-ac16-fb5dc69c371a",
      "metadata": {
        "id": "80e50657-803b-4c9e-ac16-fb5dc69c371a",
        "outputId": "5ba48520-c293-470b-f1c3-a0877ed8dad7",
        "colab": {
          "base_uri": "https://localhost:8080/"
        }
      },
      "outputs": [
        {
          "output_type": "stream",
          "name": "stdout",
          "text": [
            "4\n"
          ]
        }
      ],
      "source": [
        "x=4\n",
        "print(x)"
      ]
    },
    {
      "cell_type": "markdown",
      "id": "dbcece4a-0e34-49c5-8378-4e52faa9387c",
      "metadata": {
        "id": "dbcece4a-0e34-49c5-8378-4e52faa9387c"
      },
      "source": [
        "loading libraries"
      ]
    },
    {
      "cell_type": "code",
      "execution_count": 20,
      "id": "1e2e4dc7-c868-43d3-85ae-e324d601f1fb",
      "metadata": {
        "id": "1e2e4dc7-c868-43d3-85ae-e324d601f1fb"
      },
      "outputs": [],
      "source": [
        "# numpy, matplotlib, pandas\n",
        "import numpy as np\n",
        "import matplotlib.pyplot as plt\n",
        "import pandas as pd"
      ]
    },
    {
      "cell_type": "markdown",
      "id": "537c0a81-f35f-40a4-9fb1-aeea774357eb",
      "metadata": {
        "id": "537c0a81-f35f-40a4-9fb1-aeea774357eb"
      },
      "source": [
        "creating arrays"
      ]
    },
    {
      "cell_type": "code",
      "execution_count": 22,
      "id": "d57a0970-e8c2-4469-bbe2-8c7d621b41ac",
      "metadata": {
        "id": "d57a0970-e8c2-4469-bbe2-8c7d621b41ac"
      },
      "outputs": [],
      "source": [
        "x = np.random.normal(0, 100, 101)\n",
        "y = x**3 + 2*x"
      ]
    },
    {
      "cell_type": "markdown",
      "id": "bbc6445b-3779-4c73-8bfc-bd14c1e2cf8a",
      "metadata": {
        "id": "bbc6445b-3779-4c73-8bfc-bd14c1e2cf8a"
      },
      "source": [
        "plotting data"
      ]
    },
    {
      "cell_type": "code",
      "execution_count": null,
      "id": "7137f52d-c5a9-42bc-b1a0-d4bfdc8de36e",
      "metadata": {
        "id": "7137f52d-c5a9-42bc-b1a0-d4bfdc8de36e"
      },
      "outputs": [],
      "source": [
        "plt.figure()\n"
      ]
    },
    {
      "cell_type": "markdown",
      "id": "2cf160a9-0cf1-4686-afe2-fae488b8221e",
      "metadata": {
        "id": "2cf160a9-0cf1-4686-afe2-fae488b8221e"
      },
      "source": [
        "loading data from .csv"
      ]
    },
    {
      "cell_type": "code",
      "execution_count": null,
      "id": "753e7614-1f8c-4dbc-bb97-1ccb84c45499",
      "metadata": {
        "id": "753e7614-1f8c-4dbc-bb97-1ccb84c45499"
      },
      "outputs": [],
      "source": []
    },
    {
      "cell_type": "markdown",
      "id": "6d00936a-9526-4325-9945-20c3a9ffaf21",
      "metadata": {
        "id": "6d00936a-9526-4325-9945-20c3a9ffaf21"
      },
      "source": [
        "defining your own function"
      ]
    },
    {
      "cell_type": "code",
      "execution_count": null,
      "id": "507d6d9f-a550-4657-b7c7-4d70432d6c47",
      "metadata": {
        "id": "507d6d9f-a550-4657-b7c7-4d70432d6c47"
      },
      "outputs": [],
      "source": []
    },
    {
      "cell_type": "markdown",
      "id": "bd051ee0-df12-48fa-ae27-f66958ab0b78",
      "metadata": {
        "id": "bd051ee0-df12-48fa-ae27-f66958ab0b78"
      },
      "source": [
        "loops"
      ]
    },
    {
      "cell_type": "code",
      "execution_count": null,
      "id": "3f23889d-ae99-4217-8322-d43166c95d64",
      "metadata": {
        "id": "3f23889d-ae99-4217-8322-d43166c95d64"
      },
      "outputs": [],
      "source": []
    }
  ],
  "metadata": {
    "kernelspec": {
      "display_name": "Python 3 (ipykernel)",
      "language": "python",
      "name": "python3"
    },
    "language_info": {
      "codemirror_mode": {
        "name": "ipython",
        "version": 3
      },
      "file_extension": ".py",
      "mimetype": "text/x-python",
      "name": "python",
      "nbconvert_exporter": "python",
      "pygments_lexer": "ipython3",
      "version": "3.12.2"
    },
    "colab": {
      "provenance": [],
      "include_colab_link": true
    }
  },
  "nbformat": 4,
  "nbformat_minor": 5
}